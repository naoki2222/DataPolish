{
 "cells": [
  {
   "cell_type": "code",
   "execution_count": 92,
   "metadata": {},
   "outputs": [],
   "source": [
    "from tqdm.notebook import tqdm\n",
    "import numpy as np\n",
    "import pandas as pd\n",
    "from tqdm.notebook import tqdm \n",
    "import openpyxl\n",
    "import pickle"
   ]
  },
  {
   "cell_type": "code",
   "execution_count": 93,
   "metadata": {},
   "outputs": [],
   "source": [
    "#file_nameのファイルに隣接するノードのリストを出力\n",
    "def adjacent_node(file_name, java_module):\n",
    "    \n",
    "    adjacent_list = []\n",
    "    for edge in java_module:\n",
    "        if file_name == edge[0]:\n",
    "            adjacent_list.append(edge[1])\n",
    "\n",
    "    return adjacent_list"
   ]
  },
  {
   "cell_type": "code",
   "execution_count": 94,
   "metadata": {},
   "outputs": [],
   "source": [
    "#類似度計算\n",
    "def similarity(listA, listB):\n",
    "    return len(set(listA) & set(listB)) / len(set(listA) | set(listB))"
   ]
  },
  {
   "cell_type": "code",
   "execution_count": 95,
   "metadata": {},
   "outputs": [],
   "source": [
    "#類似度の最小値を計算\n",
    "def min_similarity(file_list, java_module):\n",
    "    \n",
    "    min_sim = 1\n",
    "    for f1 in tqdm(file_list):\n",
    "        for f2 in file_list:\n",
    "            an1 = adjacent_node(f1, java_module)\n",
    "            an2 = adjacent_node(f2, java_module)\n",
    "            if len(set(an1) | set(an2)) == 0:\n",
    "                continue\n",
    "            sim = similarity(an1, an2)\n",
    "            if sim < min_sim and sim != 0 and f1 != f2:\n",
    "                min_sim = sim\n",
    "    return min_sim"
   ]
  },
  {
   "cell_type": "code",
   "execution_count": 96,
   "metadata": {},
   "outputs": [],
   "source": [
    "#データ研磨\n",
    "#java_moduleは無向グラフを使う\n",
    "#出力も無向グラフになる\n",
    "def data_polish(java_line ,java_module, threshold):\n",
    "\n",
    "    adjacent_list = []\n",
    "    new_java_module = []\n",
    "\n",
    "    #隣接するファイルの作成\n",
    "    for i in java_line:\n",
    "        sub_adjacent = [i[0]]\n",
    "        for j in java_module:\n",
    "            if i[0] == j[1]:\n",
    "                sub_adjacent.append(j[0])\n",
    "        adjacent_list.append([i[0],list(set(sub_adjacent))])\n",
    "        \n",
    "    #データ研磨\n",
    "    for i in tqdm(adjacent_list):\n",
    "        for j in adjacent_list:\n",
    "            if threshold <= similarity(i[1],j[1]) and i != j:\n",
    "                new_java_module.append([i[0],j[0]])\n",
    "    \n",
    "    return new_java_module"
   ]
  },
  {
   "cell_type": "code",
   "execution_count": 97,
   "metadata": {},
   "outputs": [],
   "source": [
    "#データ研磨の実行\n",
    "def data_polish_repeat(java_line ,java_module, threshold, times):\n",
    "    \n",
    "    new_java_module = data_polish(java_line ,java_module, threshold)\n",
    "    \n",
    "    for i in range(times-1):\n",
    "        new_java_module = data_polish(java_line, new_java_module, threshold)\n",
    "        \n",
    "    return new_java_module"
   ]
  },
  {
   "cell_type": "code",
   "execution_count": 99,
   "metadata": {},
   "outputs": [],
   "source": [
    "#閉グラフをすべて検出\n",
    "def creek_detection(java_commit, java_module):\n",
    "    \n",
    "    commit_files = []\n",
    "    commit_module = []\n",
    "    \n",
    "    for i in java_commit:\n",
    "        commit_files.append(i[0])\n",
    "\n",
    "    for i in java_module:\n",
    "        if i[0] in commit_files and i[1] in commit_files:\n",
    "            commit_module.append(i)\n",
    "\n",
    "    creek = []\n",
    "    creek_list = []\n",
    "    exclude_files = []\n",
    "\n",
    "    for file_name in tqdm(commit_files):\n",
    "        if file_name not in exclude_files:\n",
    "            creek = single_creek_detection(file_name,commit_module)\n",
    "            exclude_files = exclude_files + creek\n",
    "            creek_list.append(creek)\n",
    "\n",
    "    return creek_list"
   ]
  },
  {
   "cell_type": "code",
   "execution_count": 100,
   "metadata": {},
   "outputs": [],
   "source": [
    "#クリークのうち変更されたファイルに関連するものだけを出力する\n",
    "def creek_commit(java_commit, creek_list):\n",
    "    \n",
    "    commit_files = []\n",
    "    for i in java_commit:\n",
    "        commit_files.append(i[0])\n",
    "    \n",
    "    creek_commit_list = []\n",
    "    for f_list in creek_list:\n",
    "        creek_commit_list.append(list(set(commit_files) & set(f_list)))\n",
    "    \n",
    "    return creek_commit_list"
   ]
  },
  {
   "cell_type": "code",
   "execution_count": 102,
   "metadata": {},
   "outputs": [],
   "source": [
    "with open('java_line.bin', 'rb') as f:\n",
    "    java_line = pickle.load(f) # load commit_set\n",
    "with open('java_commit.bin', 'rb') as f:\n",
    "    java_commit = pickle.load(f)\n",
    "with open('prob_list.bin', 'rb') as f:\n",
    "    prob_list = pickle.load(f)\n",
    "with open('java_module.bin', 'rb') as f:  #astの方\n",
    "    java_module = pickle.load(f)"
   ]
  },
  {
   "cell_type": "code",
   "execution_count": 117,
   "metadata": {},
   "outputs": [
    {
     "data": {
      "text/plain": [
       "32"
      ]
     },
     "execution_count": 117,
     "metadata": {},
     "output_type": "execute_result"
    }
   ],
   "source": [
    "commit_module = []\n",
    "commit_files = []\n",
    "\n",
    "for i in java_commit:\n",
    "    commit_files.append(i[0])\n",
    "\n",
    "for i in java_module:\n",
    "    if i[0] in commit_files and i[1] in commit_files:\n",
    "        commit_module.append(i)\n",
    "\n",
    "len(commit_module)"
   ]
  },
  {
   "cell_type": "code",
   "execution_count": 123,
   "metadata": {},
   "outputs": [
    {
     "data": {
      "application/vnd.jupyter.widget-view+json": {
       "model_id": "1a41c693e9a8414bba42481be1767f01",
       "version_major": 2,
       "version_minor": 0
      },
      "text/plain": [
       "HBox(children=(FloatProgress(value=0.0, max=1805.0), HTML(value='')))"
      ]
     },
     "metadata": {},
     "output_type": "display_data"
    },
    {
     "name": "stdout",
     "output_type": "stream",
     "text": [
      "\n"
     ]
    },
    {
     "data": {
      "application/vnd.jupyter.widget-view+json": {
       "model_id": "0ca4262c42e54a23bdb0b283f3171f67",
       "version_major": 2,
       "version_minor": 0
      },
      "text/plain": [
       "HBox(children=(FloatProgress(value=0.0, max=1805.0), HTML(value='')))"
      ]
     },
     "metadata": {},
     "output_type": "display_data"
    },
    {
     "name": "stdout",
     "output_type": "stream",
     "text": [
      "\n"
     ]
    },
    {
     "data": {
      "application/vnd.jupyter.widget-view+json": {
       "model_id": "31881b2ef1704769ae01d57f1824bdf1",
       "version_major": 2,
       "version_minor": 0
      },
      "text/plain": [
       "HBox(children=(FloatProgress(value=0.0, max=1805.0), HTML(value='')))"
      ]
     },
     "metadata": {},
     "output_type": "display_data"
    },
    {
     "name": "stdout",
     "output_type": "stream",
     "text": [
      "\n"
     ]
    }
   ],
   "source": [
    "times = 3\n",
    "threshold = 0.1\n",
    "result = data_polish_repeat(java_line , java_module, threshold, times)"
   ]
  },
  {
   "cell_type": "code",
   "execution_count": 124,
   "metadata": {},
   "outputs": [
    {
     "data": {
      "application/vnd.jupyter.widget-view+json": {
       "model_id": "c26282d90d2b4c59a86c4947d0dd126d",
       "version_major": 2,
       "version_minor": 0
      },
      "text/plain": [
       "HBox(children=(FloatProgress(value=0.0, max=42.0), HTML(value='')))"
      ]
     },
     "metadata": {},
     "output_type": "display_data"
    },
    {
     "name": "stdout",
     "output_type": "stream",
     "text": [
      "\n"
     ]
    },
    {
     "data": {
      "text/plain": [
       "[['java/org/apache/tomcat/util/compat/JreCompat.java',\n",
       "  'java/org/apache/tomcat/util/net/openssl/ciphers/Protocol.java',\n",
       "  'java/org/apache/tomcat/util/net/AbstractJsseEndpoint.java',\n",
       "  'java/org/apache/tomcat/util/net/jsse/JSSEImplementation.java',\n",
       "  'java/org/apache/tomcat/util/net/openssl/ciphers/EncryptionLevel.java',\n",
       "  'java/org/apache/catalina/valves/rewrite/ResolverImpl.java'],\n",
       " ['java/org/apache/catalina/valves/rewrite/InternalRewriteMap.java'],\n",
       " ['java/org/apache/catalina/ha/tcp/ReplicationValve.java',\n",
       "  'java/org/apache/catalina/session/PersistentManagerBase.java',\n",
       "  'java/org/apache/catalina/users/MemoryUserDatabase.java',\n",
       "  'java/org/apache/catalina/valves/rewrite/QuotedStringTokenizer.java',\n",
       "  'java/org/apache/coyote/ajp/AjpProcessor.java',\n",
       "  'java/org/apache/coyote/http2/Http2UpgradeHandler.java',\n",
       "  'java/org/apache/tomcat/util/compat/Jre8Compat.java',\n",
       "  'java/org/apache/tomcat/util/compat/Jre9Compat.java',\n",
       "  'java/org/apache/tomcat/util/net/SecureNio2Channel.java',\n",
       "  'java/org/apache/tomcat/util/net/SecureNioChannel.java',\n",
       "  'java/org/apache/tomcat/util/net/SSLHostConfig.java',\n",
       "  'java/org/apache/tomcat/util/net/SSLUtilBase.java',\n",
       "  'java/org/apache/tomcat/util/net/jsse/JSSEUtil.java',\n",
       "  'java/org/apache/tomcat/util/net/jsse/PEMFile.java',\n",
       "  'java/org/apache/tomcat/util/net/openssl/OpenSSLUtil.java',\n",
       "  'java/org/apache/tomcat/util/net/openssl/ciphers/OpenSSLCipherConfigurationParser.java',\n",
       "  'java/org/apache/tomcat/websocket/WsWebSocketContainer.java',\n",
       "  'java/org/apache/tomcat/websocket/server/UriTemplate.java',\n",
       "  'java/org/apache/catalina/connector/Connector.java',\n",
       "  'java/org/apache/catalina/connector/CoyoteAdapter.java',\n",
       "  'java/org/apache/catalina/core/ApplicationContext.java',\n",
       "  'java/org/apache/catalina/core/ApplicationDispatcher.java',\n",
       "  'java/org/apache/catalina/core/StandardWrapper.java',\n",
       "  'java/org/apache/catalina/valves/rewrite/RewriteValve.java',\n",
       "  'java/org/apache/catalina/core/StandardContext.java'],\n",
       " ['java/javax/el/ImportHandler.java'],\n",
       " ['java/org/apache/catalina/valves/rewrite/RewriteRule.java'],\n",
       " ['java/org/apache/juli/ClassLoaderLogManager.java'],\n",
       " ['java/org/apache/catalina/valves/rewrite/RewriteCond.java'],\n",
       " ['java/org/apache/tomcat/util/buf/CharsetCache.java'],\n",
       " ['java/javax/servlet/jsp/JspApplicationContext.java'],\n",
       " ['java/org/apache/tomcat/util/net/openssl/ciphers/Encryption.java'],\n",
       " ['java/org/apache/tomcat/util/net/openssl/ciphers/KeyExchange.java'],\n",
       " ['java/org/apache/tomcat/util/net/openssl/ciphers/MessageDigest.java'],\n",
       " ['java/org/apache/catalina/session/StandardSessionFacade.java']]"
      ]
     },
     "execution_count": 124,
     "metadata": {},
     "output_type": "execute_result"
    }
   ],
   "source": [
    "result2 = creek_detection(java_commit, result)"
   ]
  },
  {
   "cell_type": "code",
   "execution_count": 47,
   "metadata": {},
   "outputs": [
    {
     "data": {
      "text/plain": [
       "[['java/org/apache/catalina/connector/Connector.java',\n",
       "  'java/org/apache/tomcat/util/compat/Jre8Compat.java',\n",
       "  'java/org/apache/tomcat/util/compat/Jre9Compat.java',\n",
       "  'java/org/apache/tomcat/util/net/openssl/ciphers/OpenSSLCipherConfigurationParser.java',\n",
       "  'java/org/apache/tomcat/util/net/AbstractJsseEndpoint.java',\n",
       "  'java/org/apache/tomcat/util/net/SSLHostConfig.java',\n",
       "  'java/org/apache/tomcat/util/net/openssl/OpenSSLUtil.java',\n",
       "  'java/org/apache/coyote/http2/Http2UpgradeHandler.java',\n",
       "  'java/org/apache/tomcat/util/net/jsse/PEMFile.java',\n",
       "  'java/org/apache/catalina/ha/tcp/ReplicationValve.java',\n",
       "  'java/org/apache/tomcat/util/net/jsse/JSSEImplementation.java',\n",
       "  'java/org/apache/tomcat/util/net/SSLUtilBase.java',\n",
       "  'java/org/apache/catalina/core/StandardContext.java',\n",
       "  'java/org/apache/catalina/session/PersistentManagerBase.java',\n",
       "  'java/org/apache/tomcat/util/net/SecureNioChannel.java',\n",
       "  'java/org/apache/tomcat/websocket/server/UriTemplate.java',\n",
       "  'java/org/apache/catalina/valves/rewrite/ResolverImpl.java',\n",
       "  'java/org/apache/catalina/valves/rewrite/RewriteValve.java',\n",
       "  'java/org/apache/tomcat/util/net/SecureNio2Channel.java',\n",
       "  'java/org/apache/catalina/connector/CoyoteAdapter.java',\n",
       "  'java/org/apache/tomcat/util/net/jsse/JSSEUtil.java',\n",
       "  'java/org/apache/catalina/core/ApplicationDispatcher.java',\n",
       "  'java/org/apache/catalina/core/ApplicationContext.java',\n",
       "  'java/org/apache/tomcat/util/compat/JreCompat.java',\n",
       "  'java/org/apache/catalina/users/MemoryUserDatabase.java',\n",
       "  'java/org/apache/catalina/core/StandardWrapper.java',\n",
       "  'java/org/apache/coyote/ajp/AjpProcessor.java'],\n",
       " ['test/org/apache/tomcat/util/net/TestResolverSSL.java'],\n",
       " ['java/org/apache/catalina/valves/rewrite/InternalRewriteMap.java'],\n",
       " ['java/javax/servlet/jsp/JspApplicationContext.java',\n",
       "  'java/javax/el/ImportHandler.java'],\n",
       " ['test/org/apache/tomcat/websocket/server/TestUriTemplate.java'],\n",
       " ['test/org/apache/coyote/http2/TestHttp2Section_5_1.java'],\n",
       " ['test/org/apache/catalina/valves/Benchmarks.java'],\n",
       " ['test/org/apache/catalina/valves/rewrite/TestRewriteValve.java'],\n",
       " ['java/org/apache/catalina/valves/rewrite/RewriteRule.java',\n",
       "  'java/org/apache/catalina/valves/rewrite/QuotedStringTokenizer.java',\n",
       "  'java/org/apache/catalina/valves/rewrite/RewriteCond.java'],\n",
       " ['java/org/apache/juli/ClassLoaderLogManager.java'],\n",
       " ['java/org/apache/tomcat/websocket/WsWebSocketContainer.java'],\n",
       " ['java/org/apache/tomcat/util/buf/CharsetCache.java'],\n",
       " ['java/org/apache/tomcat/util/net/openssl/ciphers/Protocol.java',\n",
       "  'java/org/apache/tomcat/util/net/openssl/ciphers/MessageDigest.java',\n",
       "  'java/org/apache/tomcat/util/net/openssl/ciphers/EncryptionLevel.java',\n",
       "  'java/org/apache/tomcat/util/net/openssl/ciphers/Encryption.java',\n",
       "  'java/org/apache/tomcat/util/net/openssl/ciphers/KeyExchange.java'],\n",
       " ['java/org/apache/catalina/session/StandardSessionFacade.java']]"
      ]
     },
     "execution_count": 47,
     "metadata": {},
     "output_type": "execute_result"
    }
   ],
   "source": [
    "creek_commit(java_commit, result)"
   ]
  },
  {
   "cell_type": "code",
   "execution_count": 125,
   "metadata": {},
   "outputs": [
    {
     "data": {
      "text/plain": [
       "['java/org/apache/catalina/util/URLEncoder.java',\n",
       " 'java/org/apache/tomcat/util/buf/UDecoder.java']"
      ]
     },
     "execution_count": 125,
     "metadata": {},
     "output_type": "execute_result"
    }
   ],
   "source": [
    "file_name = files_name[0]\n",
    "adjacent_node(file_name, java_module)"
   ]
  },
  {
   "cell_type": "code",
   "execution_count": 64,
   "metadata": {},
   "outputs": [],
   "source": [
    "with open('creek.bin', 'wb') as f:\n",
    "    pickle.dump(result, f)"
   ]
  },
  {
   "cell_type": "code",
   "execution_count": 27,
   "metadata": {},
   "outputs": [
    {
     "data": {
      "text/plain": [
       "\"\\n#結果の保存\\nresult_path = '../result'\\n\\nif not os.path.exists(result_path):\\n    os.mkdir(result_path)\\n    print(result_path + 'を作成しました.')\\n\\n#保存ファイル名の決定\\nExcel_name = 'result_tomcat_8556_02_3回_creek'\\nExcel_name2 = 'result_tomcat_8556_02_3回_dependency'\\n\\n#データフレームへの変換\\ndf = pd.DataFrame(result)\\ndf2 = pd.DataFrame(result2, columns=['source','target'])\\n\\n#エクセルデータとして結果を保存\\ndf.to_excel(result_path+'/'+Excel_name+'.xlsx', sheet_name='new_sheet_name')\\ndf2.to_excel(result_path+'/'+Excel_name2+'.xlsx', sheet_name='new_sheet_name')\\n\""
      ]
     },
     "execution_count": 27,
     "metadata": {},
     "output_type": "execute_result"
    }
   ],
   "source": [
    "#結果の保存\n",
    "result_path = '../result'\n",
    "\n",
    "if not os.path.exists(result_path):\n",
    "    os.mkdir(result_path)\n",
    "    print(result_path + 'を作成しました.')\n",
    "\n",
    "#保存ファイル名の決定\n",
    "Excel_name = 'result_'+str(times)+'回_creek'\n",
    "Excel_name2 = 'result_'+str(times)+'回_dependency'\n",
    "\n",
    "#データフレームへの変換\n",
    "df = pd.DataFrame(result)\n",
    "df2 = pd.DataFrame(result2, columns=['source','target'])\n",
    "\n",
    "#エクセルデータとして結果を保存\n",
    "df.to_excel(result_path+'/'+Excel_name+'.xlsx', sheet_name='new_sheet_name')\n",
    "df2.to_excel(result_path+'/'+Excel_name2+'.xlsx', sheet_name='new_sheet_name')"
   ]
  },
  {
   "cell_type": "code",
   "execution_count": 28,
   "metadata": {},
   "outputs": [
    {
     "data": {
      "text/plain": [
       "\"\\n#結果の保存\\nresult_path = '../result'\\n\\n#ノードとエッジの保存\\nExcel_name = 'result_tomcat_8556_edge_undirected'  #-->エッジの保存\\ndf = pd.DataFrame(commit_module, columns=['source','target'])\\ndf.to_excel(result_path+'/'+Excel_name+'.xlsx', sheet_name='new_sheet_name')\\n\\n# コミットのファイル\\nnode = []\\nfor i in java_commit:\\n    node.append([i[0],i[0]])\\n\\nExcel_name = 'result_tomcat_8556_node_undirected'  #-->エッジの保存\\ndf2 = pd.DataFrame(node, columns=['id','label'])\\ndf2.to_excel(result_path+'/'+Excel_name+'.xlsx', sheet_name='new_sheet_name')\\n\""
      ]
     },
     "execution_count": 28,
     "metadata": {},
     "output_type": "execute_result"
    }
   ],
   "source": [
    "#結果の保存\n",
    "result_path = '../result'\n",
    "\n",
    "#ノードとエッジの保存\n",
    "Excel_name = 'edge'  #-->エッジの保存\n",
    "df = pd.DataFrame(commit_module, columns=['source','target'])\n",
    "df.to_excel(result_path+'/'+Excel_name+'.xlsx', sheet_name='new_sheet_name')\n",
    "\n",
    "# コミットのファイル\n",
    "node = []\n",
    "for i in java_commit:\n",
    "    node.append([i[0],i[0]])\n",
    "\n",
    "Excel_name = 'node'  #-->エッジの保存\n",
    "df2 = pd.DataFrame(node, columns=['id','label'])\n",
    "df2.to_excel(result_path+'/'+Excel_name+'.xlsx', sheet_name='new_sheet_name')"
   ]
  }
 ],
 "metadata": {
  "kernelspec": {
   "display_name": "Python 3",
   "language": "python",
   "name": "python3"
  },
  "language_info": {
   "codemirror_mode": {
    "name": "ipython",
    "version": 3
   },
   "file_extension": ".py",
   "mimetype": "text/x-python",
   "name": "python",
   "nbconvert_exporter": "python",
   "pygments_lexer": "ipython3",
   "version": "3.7.6"
  }
 },
 "nbformat": 4,
 "nbformat_minor": 4
}
